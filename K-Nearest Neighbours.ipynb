{
 "cells": [
  {
   "cell_type": "code",
   "execution_count": 3,
   "metadata": {
    "collapsed": true
   },
   "outputs": [],
   "source": [
    "import matplotlib.pyplot as plt\n",
    "import numpy as np\n",
    "import tensorflow as tf\n",
    "import pandas as pd\n",
    "from sklearn.metrics import precision_recall_fscore_support\n",
    "%matplotlib inline"
   ]
  },
  {
   "cell_type": "code",
   "execution_count": 16,
   "metadata": {
    "collapsed": true
   },
   "outputs": [],
   "source": [
    "def read_dataset(filePath,delimiter=','):\n",
    "    return pd.read_csv(filePath)\n",
    "\n",
    "def reshape_data(features,labels):\n",
    "    n_training_samples = features.shape[0]\n",
    "    n_dim = features.shape[1]\n",
    "    f = np.asarray(np.reshape(features,[n_training_samples,n_dim]))\n",
    "    l = np.asarray(labels)\n",
    "    return f, l"
   ]
  },
  {
   "cell_type": "code",
   "execution_count": 17,
   "metadata": {
    "collapsed": false
   },
   "outputs": [],
   "source": [
    "#Dataset can be acquired from UCI ML repository (https://archive.ics.uci.edu/ml/datasets/Letter+Recognition)\n",
    "data = read_dataset('letter-recognition.csv')\n",
    "features = data.ix[:,0:-1]\n",
    "labels = pd.get_dummies(data.ix[:,-1])\n",
    "f, l = reshape_data(features,labels)\n",
    "n_dim = f.shape[1]\n",
    "\n",
    "rnd_indices = np.random.rand(len(f)) < 0.70\n",
    "train_x = f[rnd_indices]\n",
    "train_y = l[rnd_indices]\n",
    "test_x = f[~rnd_indices]\n",
    "test_y = l[~rnd_indices]"
   ]
  },
  {
   "cell_type": "code",
   "execution_count": 19,
   "metadata": {
    "collapsed": true
   },
   "outputs": [],
   "source": [
    "train_features = tf.placeholder(tf.float32,[None,n_dim]) #train\n",
    "test_features = tf.placeholder(tf.float32,[None]) #test\n",
    "init = tf.initialize_all_variables()"
   ]
  },
  {
   "cell_type": "code",
   "execution_count": 20,
   "metadata": {
    "collapsed": false
   },
   "outputs": [],
   "source": [
    "euc_distance = tf.sqrt(tf.reduce_sum(tf.squared_difference(train_features,test_features),reduction_indices=1))\n",
    "nearest_neighbour = tf.argmin(euc_distance, 0)"
   ]
  },
  {
   "cell_type": "code",
   "execution_count": 21,
   "metadata": {
    "collapsed": false
   },
   "outputs": [],
   "source": [
    "accuracy = 0\n",
    "y_true = []\n",
    "y_pred = []\n",
    "\n",
    "with tf.Session() as sess:\n",
    "    sess.run(init)\n",
    "    for i in range(len(test_x)):\n",
    "        dists = sess.run(euc_distance,feed_dict={train_features:train_x,test_features:test_x[i,:]})\n",
    "        nn_idx = sess.run(tf.argmin(dists, 0))\n",
    "        y_true.append(np.argmax(test_y[i]))\n",
    "        y_pred.append(np.argmax(train_y[nn_idx]))"
   ]
  },
  {
   "cell_type": "code",
   "execution_count": 26,
   "metadata": {
    "collapsed": false
   },
   "outputs": [],
   "source": [
    "p,r,fscore,s = precision_recall_fscore_support(y_true, y_pred, average='micro')"
   ]
  },
  {
   "cell_type": "code",
   "execution_count": 27,
   "metadata": {
    "collapsed": false
   },
   "outputs": [
    {
     "name": "stdout",
     "output_type": "stream",
     "text": [
      "0.954476222711\n"
     ]
    }
   ],
   "source": [
    "print fscore"
   ]
  }
 ],
 "metadata": {
  "kernelspec": {
   "display_name": "Python 2",
   "language": "python",
   "name": "python2"
  },
  "language_info": {
   "codemirror_mode": {
    "name": "ipython",
    "version": 2
   },
   "file_extension": ".py",
   "mimetype": "text/x-python",
   "name": "python",
   "nbconvert_exporter": "python",
   "pygments_lexer": "ipython2",
   "version": "2.7.11"
  }
 },
 "nbformat": 4,
 "nbformat_minor": 0
}
